{
 "cells": [
  {
   "cell_type": "code",
   "execution_count": 1,
   "metadata": {},
   "outputs": [],
   "source": [
    "import pandas as pd"
   ]
  },
  {
   "cell_type": "code",
   "execution_count": 3,
   "metadata": {},
   "outputs": [
    {
     "name": "stdout",
     "output_type": "stream",
     "text": [
      "['item_weight' 'item_volume' 'voltage' 'wattage'\n",
      " 'maximum_weight_recommendation' 'height' 'depth' 'width']\n"
     ]
    }
   ],
   "source": [
    "df = pd.read_csv(\"D:/Projects/Amazon-ML-Challenge-Team-AutoGen-/student_resource 3/dataset/train.csv\")\n",
    "\n",
    "# Step 2: Print the unique values of the specific column\n",
    "unique_values = df['entity_name'].unique()\n",
    "\n",
    "# Step 3: Print the unique values\n",
    "print(unique_values)"
   ]
  },
  {
   "cell_type": "code",
   "execution_count": null,
   "metadata": {},
   "outputs": [],
   "source": []
  }
 ],
 "metadata": {
  "kernelspec": {
   "display_name": "Python 3",
   "language": "python",
   "name": "python3"
  },
  "language_info": {
   "codemirror_mode": {
    "name": "ipython",
    "version": 3
   },
   "file_extension": ".py",
   "mimetype": "text/x-python",
   "name": "python",
   "nbconvert_exporter": "python",
   "pygments_lexer": "ipython3",
   "version": "3.12.5"
  }
 },
 "nbformat": 4,
 "nbformat_minor": 2
}
